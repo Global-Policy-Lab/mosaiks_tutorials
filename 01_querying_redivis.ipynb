{
 "cells": [
  {
   "cell_type": "markdown",
   "id": "af01ba7f-349e-40e8-a5c8-cdc4ddfc0189",
   "metadata": {},
   "source": [
    "*Author: Luke Sherman*\n",
    "\n",
    "*Published: 2025-02-20*\n",
    "\n",
    "*Last Updated: 2025-02-20*"
   ]
  },
  {
   "cell_type": "code",
   "execution_count": 22,
   "id": "c4b955be-9f8f-40be-b823-5b279fe0bed6",
   "metadata": {},
   "outputs": [],
   "source": [
    "import os, time\n",
    "\n",
    "import pandas as pd\n",
    "from matplotlib import pyplot as plt\n",
    "\n",
    "\n",
    "import redivis"
   ]
  },
  {
   "cell_type": "markdown",
   "id": "0cdf9829-6a90-425e-932b-42d5efd01e3d",
   "metadata": {},
   "source": [
    "\n",
    "\n",
    "## Mosaiks Tutorial - Querying Redivis for native resolution grid features\n",
    "\n",
    "The first step in using MOSAIKS is downloading a set of features. This tutorial will demonstrate how to query Redivis for native resolution (.01 x .01 degree) grid features over a small geographic area. \n",
    "\n",
    "For many users and for global scale analyses, it may be preferable to download coarsened global grid files or ADM aggregations. See [api.mosaiks.org](api.mosaiks.org) for more information.\n"
   ]
  },
  {
   "cell_type": "markdown",
   "id": "c12c8078-7968-4e19-a602-befea365bbcf",
   "metadata": {},
   "source": [
    "### Step 1 - Make a Redivis account\n",
    "\n",
    "Go to [Redivis.com](https://redivis.com/) and create an account. Once you have a Redivis account, you will have full access to the MOSAIKS data on Redivis."
   ]
  },
  {
   "cell_type": "markdown",
   "id": "bffb6843-0501-4bad-96f4-e19efc470134",
   "metadata": {},
   "source": [
    "### Step 2 - Access the table"
   ]
  },
  {
   "cell_type": "code",
   "execution_count": 17,
   "id": "f7b159ad-c9db-44af-b4eb-15a6520caaaa",
   "metadata": {},
   "outputs": [],
   "source": [
    "## These variables will not change\n",
    "user = redivis.user(\"sdss\")\n",
    "dataset = user.dataset(\"mosaiks\")"
   ]
  },
  {
   "cell_type": "markdown",
   "id": "7ced04b0-dddb-4eee-baa8-371c6462e4df",
   "metadata": {},
   "source": [
    "#### Now, let's query the dataset so that it prompts us to authenticate\n",
    "For more information on authnetication with Redivis see: https://apidocs.redivis.com/rest-api/authorization\n"
   ]
  },
  {
   "cell_type": "code",
   "execution_count": 6,
   "id": "d232f92f-f971-472d-86d1-61e9a42ae1fa",
   "metadata": {},
   "outputs": [
    {
     "name": "stdout",
     "output_type": "stream",
     "text": [
      "Warning: No reference id was provided for the dataset, which may cause your code to break if the name changes. Consider using the qualified reference \"mosaiks:8bqm:next\"\n"
     ]
    },
    {
     "data": {
      "text/plain": [
       "['0.1 x 0.1 Deg - Area Weighted',\n",
       " '0.1 x 0.1 Deg - Pop weighted',\n",
       " '0.25. x 0.25 Deg Grid',\n",
       " 'mosaiks_2019_planet',\n",
       " 'coarsened_0.1_x_0.1_deg_pop_weighted_mosaiks',\n",
       " 'coarsened_0.1_x_0.1_deg_area_weighted_mosaiks',\n",
       " '1 x 1 Deg Grid',\n",
       " 'Administrative Region Aggregations']"
      ]
     },
     "execution_count": 6,
     "metadata": {},
     "output_type": "execute_result"
    }
   ],
   "source": [
    "## Now, let's run this first query. This will ask us to use a browser\n",
    "\n",
    "#dataset.list_tables() # This output is hard to read\n",
    "\n",
    "## Modification of the above so that it is a bit easier to read\n",
    "[item.name for item in dataset.list_tables()]"
   ]
  },
  {
   "cell_type": "markdown",
   "id": "c987ba38-1d06-4bf7-bd6f-6b58afca6cde",
   "metadata": {},
   "source": [
    "Some of these tables are just used for indexing of uploaded files. There are 3 that may be queried for features:\n",
    "\n",
    "1. 'mosaiks_2019_planet' : This table contains the global, native resolution features (.01 x .01 degree).\n",
    "2. 'coarsened_0.1_x_0.1_deg_area_weighted_mosaiks' : This table contains the features coarsend to .1 x .1 degree using area weights.\n",
    "3. 'coarsened_0.1_x_0.1_deg_pop_weighted_mosaiks' : This table contains the features coarsend to .1 x .1 degree using population weights from GHS-POP.\n",
    "\n",
    "In this notebook, we're going to query for native resolution features\n"
   ]
  },
  {
   "cell_type": "code",
   "execution_count": 10,
   "id": "a341410a-5062-4cba-9995-f68084751fec",
   "metadata": {},
   "outputs": [],
   "source": [
    "table_name = \"mosaiks_2019_planet\" # Table name for native resolution grid features\n",
    "table = dataset.table(table_name)"
   ]
  },
  {
   "cell_type": "markdown",
   "id": "b94b3d8b-e936-49ad-93c7-7d07f146e33e",
   "metadata": {},
   "source": [
    "### Step 3 - Get the bounds for the area we want to query\n",
    "\n",
    "We're going to load boundaries from Natural Earth using cartopy. Alternatively, you can also just read in a shapefile locally or import your own geospatial data.\n",
    "\n",
    "Let's suppose that we're interested in Nebraska. This is an ADM1 region, so we will need an ADM1 shapefile."
   ]
  },
  {
   "cell_type": "code",
   "execution_count": 11,
   "id": "c109a651-fa61-4f3b-88dc-4f31a294aca2",
   "metadata": {},
   "outputs": [],
   "source": [
    "import geopandas as gpd\n",
    "from cartopy.io import shapereader\n",
    "\n",
    "\n",
    "resolution = '50m' #Coarse resolution\n",
    "category = 'cultural'\n",
    "#name = 'admin_0_countries'\n",
    "\n",
    "name = 'admin_1_states_provinces'\n",
    "shpfilename = shapereader.natural_earth(resolution, category, name)\n",
    "\n",
    "geo_df = gpd.read_file(shpfilename)"
   ]
  },
  {
   "cell_type": "code",
   "execution_count": 12,
   "id": "9a8adcaa-3b66-4c44-b02b-7527a06ff83a",
   "metadata": {},
   "outputs": [
    {
     "data": {
      "text/html": [
       "<div>\n",
       "<style scoped>\n",
       "    .dataframe tbody tr th:only-of-type {\n",
       "        vertical-align: middle;\n",
       "    }\n",
       "\n",
       "    .dataframe tbody tr th {\n",
       "        vertical-align: top;\n",
       "    }\n",
       "\n",
       "    .dataframe thead th {\n",
       "        text-align: right;\n",
       "    }\n",
       "</style>\n",
       "<table border=\"1\" class=\"dataframe\">\n",
       "  <thead>\n",
       "    <tr style=\"text-align: right;\">\n",
       "      <th></th>\n",
       "      <th>featurecla</th>\n",
       "      <th>scalerank</th>\n",
       "      <th>adm1_code</th>\n",
       "      <th>diss_me</th>\n",
       "      <th>iso_3166_2</th>\n",
       "      <th>wikipedia</th>\n",
       "      <th>iso_a2</th>\n",
       "      <th>adm0_sr</th>\n",
       "      <th>name</th>\n",
       "      <th>name_alt</th>\n",
       "      <th>...</th>\n",
       "      <th>FCLASS_ID</th>\n",
       "      <th>FCLASS_PL</th>\n",
       "      <th>FCLASS_GR</th>\n",
       "      <th>FCLASS_IT</th>\n",
       "      <th>FCLASS_NL</th>\n",
       "      <th>FCLASS_SE</th>\n",
       "      <th>FCLASS_BD</th>\n",
       "      <th>FCLASS_UA</th>\n",
       "      <th>FCLASS_TLC</th>\n",
       "      <th>geometry</th>\n",
       "    </tr>\n",
       "  </thead>\n",
       "  <tbody>\n",
       "    <tr>\n",
       "      <th>0</th>\n",
       "      <td>Admin-1 scale rank</td>\n",
       "      <td>2</td>\n",
       "      <td>AUS-2651</td>\n",
       "      <td>2651</td>\n",
       "      <td>AU-WA</td>\n",
       "      <td>None</td>\n",
       "      <td>AU</td>\n",
       "      <td>6</td>\n",
       "      <td>Western Australia</td>\n",
       "      <td>None</td>\n",
       "      <td>...</td>\n",
       "      <td>None</td>\n",
       "      <td>None</td>\n",
       "      <td>None</td>\n",
       "      <td>None</td>\n",
       "      <td>None</td>\n",
       "      <td>None</td>\n",
       "      <td>None</td>\n",
       "      <td>None</td>\n",
       "      <td>None</td>\n",
       "      <td>MULTIPOLYGON (((113.13181 -25.95199, 113.14823...</td>\n",
       "    </tr>\n",
       "    <tr>\n",
       "      <th>1</th>\n",
       "      <td>Admin-1 scale rank</td>\n",
       "      <td>2</td>\n",
       "      <td>AUS-2650</td>\n",
       "      <td>2650</td>\n",
       "      <td>AU-NT</td>\n",
       "      <td>None</td>\n",
       "      <td>AU</td>\n",
       "      <td>6</td>\n",
       "      <td>Northern Territory</td>\n",
       "      <td>None</td>\n",
       "      <td>...</td>\n",
       "      <td>None</td>\n",
       "      <td>None</td>\n",
       "      <td>None</td>\n",
       "      <td>None</td>\n",
       "      <td>None</td>\n",
       "      <td>None</td>\n",
       "      <td>None</td>\n",
       "      <td>None</td>\n",
       "      <td>None</td>\n",
       "      <td>MULTIPOLYGON (((129.00196 -25.99901, 129.00196...</td>\n",
       "    </tr>\n",
       "    <tr>\n",
       "      <th>2</th>\n",
       "      <td>Admin-1 scale rank</td>\n",
       "      <td>2</td>\n",
       "      <td>AUS-2655</td>\n",
       "      <td>2655</td>\n",
       "      <td>AU-SA</td>\n",
       "      <td>None</td>\n",
       "      <td>AU</td>\n",
       "      <td>3</td>\n",
       "      <td>South Australia</td>\n",
       "      <td>None</td>\n",
       "      <td>...</td>\n",
       "      <td>None</td>\n",
       "      <td>None</td>\n",
       "      <td>None</td>\n",
       "      <td>None</td>\n",
       "      <td>None</td>\n",
       "      <td>None</td>\n",
       "      <td>None</td>\n",
       "      <td>None</td>\n",
       "      <td>None</td>\n",
       "      <td>MULTIPOLYGON (((129.00196 -31.69266, 129.00196...</td>\n",
       "    </tr>\n",
       "    <tr>\n",
       "      <th>3</th>\n",
       "      <td>Admin-1 scale rank</td>\n",
       "      <td>2</td>\n",
       "      <td>AUS-2657</td>\n",
       "      <td>2657</td>\n",
       "      <td>AU-QLD</td>\n",
       "      <td>None</td>\n",
       "      <td>AU</td>\n",
       "      <td>5</td>\n",
       "      <td>Queensland</td>\n",
       "      <td>None</td>\n",
       "      <td>...</td>\n",
       "      <td>None</td>\n",
       "      <td>None</td>\n",
       "      <td>None</td>\n",
       "      <td>None</td>\n",
       "      <td>None</td>\n",
       "      <td>None</td>\n",
       "      <td>None</td>\n",
       "      <td>None</td>\n",
       "      <td>None</td>\n",
       "      <td>MULTIPOLYGON (((138.00196 -25.99901, 138.00174...</td>\n",
       "    </tr>\n",
       "    <tr>\n",
       "      <th>4</th>\n",
       "      <td>Admin-1 scale rank</td>\n",
       "      <td>2</td>\n",
       "      <td>AUS-2660</td>\n",
       "      <td>2660</td>\n",
       "      <td>AU-TAS</td>\n",
       "      <td>None</td>\n",
       "      <td>AU</td>\n",
       "      <td>5</td>\n",
       "      <td>Tasmania</td>\n",
       "      <td>None</td>\n",
       "      <td>...</td>\n",
       "      <td>None</td>\n",
       "      <td>None</td>\n",
       "      <td>None</td>\n",
       "      <td>None</td>\n",
       "      <td>None</td>\n",
       "      <td>None</td>\n",
       "      <td>None</td>\n",
       "      <td>None</td>\n",
       "      <td>None</td>\n",
       "      <td>MULTIPOLYGON (((147.31246 -43.28038, 147.34238...</td>\n",
       "    </tr>\n",
       "  </tbody>\n",
       "</table>\n",
       "<p>5 rows × 122 columns</p>\n",
       "</div>"
      ],
      "text/plain": [
       "           featurecla  scalerank adm1_code  diss_me iso_3166_2 wikipedia  \\\n",
       "0  Admin-1 scale rank          2  AUS-2651     2651      AU-WA      None   \n",
       "1  Admin-1 scale rank          2  AUS-2650     2650      AU-NT      None   \n",
       "2  Admin-1 scale rank          2  AUS-2655     2655      AU-SA      None   \n",
       "3  Admin-1 scale rank          2  AUS-2657     2657     AU-QLD      None   \n",
       "4  Admin-1 scale rank          2  AUS-2660     2660     AU-TAS      None   \n",
       "\n",
       "  iso_a2  adm0_sr                name name_alt  ... FCLASS_ID FCLASS_PL  \\\n",
       "0     AU        6   Western Australia     None  ...      None      None   \n",
       "1     AU        6  Northern Territory     None  ...      None      None   \n",
       "2     AU        3     South Australia     None  ...      None      None   \n",
       "3     AU        5          Queensland     None  ...      None      None   \n",
       "4     AU        5            Tasmania     None  ...      None      None   \n",
       "\n",
       "  FCLASS_GR FCLASS_IT FCLASS_NL FCLASS_SE FCLASS_BD FCLASS_UA FCLASS_TLC  \\\n",
       "0      None      None      None      None      None      None       None   \n",
       "1      None      None      None      None      None      None       None   \n",
       "2      None      None      None      None      None      None       None   \n",
       "3      None      None      None      None      None      None       None   \n",
       "4      None      None      None      None      None      None       None   \n",
       "\n",
       "                                            geometry  \n",
       "0  MULTIPOLYGON (((113.13181 -25.95199, 113.14823...  \n",
       "1  MULTIPOLYGON (((129.00196 -25.99901, 129.00196...  \n",
       "2  MULTIPOLYGON (((129.00196 -31.69266, 129.00196...  \n",
       "3  MULTIPOLYGON (((138.00196 -25.99901, 138.00174...  \n",
       "4  MULTIPOLYGON (((147.31246 -43.28038, 147.34238...  \n",
       "\n",
       "[5 rows x 122 columns]"
      ]
     },
     "execution_count": 12,
     "metadata": {},
     "output_type": "execute_result"
    },
    {
     "data": {
      "image/png": "[encoded data removed]",
      "text/plain": [
       "<Figure size 640x480 with 1 Axes>"
      ]
     },
     "metadata": {},
     "output_type": "display_data"
    }
   ],
   "source": [
    "geo_df.plot() ## This looks like it has complete data for the US at least.\n",
    "geo_df.head()"
   ]
  },
  {
   "cell_type": "code",
   "execution_count": 13,
   "id": "87d907a0-3369-4342-9644-9eb9dfc0adc5",
   "metadata": {},
   "outputs": [],
   "source": [
    "nebraska_shp = geo_df[geo_df[\"name\"].str.contains(\"nebraska\", case=False) ]  # Search, not case sensitive"
   ]
  },
  {
   "cell_type": "code",
   "execution_count": 14,
   "id": "b3971027-b2f4-4793-ad8e-b0e335231083",
   "metadata": {},
   "outputs": [
    {
     "data": {
      "text/html": [
       "<div>\n",
       "<style scoped>\n",
       "    .dataframe tbody tr th:only-of-type {\n",
       "        vertical-align: middle;\n",
       "    }\n",
       "\n",
       "    .dataframe tbody tr th {\n",
       "        vertical-align: top;\n",
       "    }\n",
       "\n",
       "    .dataframe thead th {\n",
       "        text-align: right;\n",
       "    }\n",
       "</style>\n",
       "<table border=\"1\" class=\"dataframe\">\n",
       "  <thead>\n",
       "    <tr style=\"text-align: right;\">\n",
       "      <th></th>\n",
       "      <th>featurecla</th>\n",
       "      <th>scalerank</th>\n",
       "      <th>adm1_code</th>\n",
       "      <th>diss_me</th>\n",
       "      <th>iso_3166_2</th>\n",
       "      <th>wikipedia</th>\n",
       "      <th>iso_a2</th>\n",
       "      <th>adm0_sr</th>\n",
       "      <th>name</th>\n",
       "      <th>name_alt</th>\n",
       "      <th>...</th>\n",
       "      <th>FCLASS_ID</th>\n",
       "      <th>FCLASS_PL</th>\n",
       "      <th>FCLASS_GR</th>\n",
       "      <th>FCLASS_IT</th>\n",
       "      <th>FCLASS_NL</th>\n",
       "      <th>FCLASS_SE</th>\n",
       "      <th>FCLASS_BD</th>\n",
       "      <th>FCLASS_UA</th>\n",
       "      <th>FCLASS_TLC</th>\n",
       "      <th>geometry</th>\n",
       "    </tr>\n",
       "  </thead>\n",
       "  <tbody>\n",
       "    <tr>\n",
       "      <th>78</th>\n",
       "      <td>Admin-1 scale rank</td>\n",
       "      <td>2</td>\n",
       "      <td>USA-3532</td>\n",
       "      <td>3532</td>\n",
       "      <td>US-NE</td>\n",
       "      <td>http://en.wikipedia.org/wiki/Nebraska</td>\n",
       "      <td>US</td>\n",
       "      <td>1</td>\n",
       "      <td>Nebraska</td>\n",
       "      <td>NE|Nebr.</td>\n",
       "      <td>...</td>\n",
       "      <td>None</td>\n",
       "      <td>None</td>\n",
       "      <td>None</td>\n",
       "      <td>None</td>\n",
       "      <td>None</td>\n",
       "      <td>None</td>\n",
       "      <td>None</td>\n",
       "      <td>None</td>\n",
       "      <td>None</td>\n",
       "      <td>POLYGON ((-102.02449 40.00112, -102.02454 40.1...</td>\n",
       "    </tr>\n",
       "  </tbody>\n",
       "</table>\n",
       "<p>1 rows × 122 columns</p>\n",
       "</div>"
      ],
      "text/plain": [
       "            featurecla  scalerank adm1_code  diss_me iso_3166_2  \\\n",
       "78  Admin-1 scale rank          2  USA-3532     3532      US-NE   \n",
       "\n",
       "                                wikipedia iso_a2  adm0_sr      name  name_alt  \\\n",
       "78  http://en.wikipedia.org/wiki/Nebraska     US        1  Nebraska  NE|Nebr.   \n",
       "\n",
       "    ... FCLASS_ID FCLASS_PL FCLASS_GR FCLASS_IT FCLASS_NL FCLASS_SE FCLASS_BD  \\\n",
       "78  ...      None      None      None      None      None      None      None   \n",
       "\n",
       "   FCLASS_UA FCLASS_TLC                                           geometry  \n",
       "78      None       None  POLYGON ((-102.02449 40.00112, -102.02454 40.1...  \n",
       "\n",
       "[1 rows x 122 columns]"
      ]
     },
     "execution_count": 14,
     "metadata": {},
     "output_type": "execute_result"
    },
    {
     "data": {
      "image/png": "[encoded data removed]",
      "text/plain": [
       "<Figure size 640x480 with 1 Axes>"
      ]
     },
     "metadata": {},
     "output_type": "display_data"
    }
   ],
   "source": [
    "nebraska_shp.plot()\n",
    "nebraska_shp.head()"
   ]
  },
  {
   "cell_type": "markdown",
   "id": "c1d695a7-a163-44b7-aa43-a38a72c0ffa0",
   "metadata": {},
   "source": [
    "This looks like the area we wanted to query! Now we just want the bounding box:"
   ]
  },
  {
   "cell_type": "code",
   "execution_count": 15,
   "id": "7ec9f0ea-88c0-4edf-a87b-01ef7bd9eb4a",
   "metadata": {},
   "outputs": [],
   "source": [
    "xmin, ymin, xmax, ymax = nebraska_shp.total_bounds"
   ]
  },
  {
   "cell_type": "markdown",
   "id": "977f60a7-b763-4bd9-901d-8bfedb37ca76",
   "metadata": {},
   "source": [
    "### Step 4 - Query Redivis for the data"
   ]
  },
  {
   "cell_type": "code",
   "execution_count": 19,
   "id": "464f5a35-1ec3-49f4-a6af-c7af27222a8e",
   "metadata": {},
   "outputs": [
    {
     "data": {
      "application/vnd.jupyter.widget-view+json": {
       "model_id": "",
       "version_major": 2,
       "version_minor": 0
      },
      "text/plain": [
       "  0%|          | 0/260400 [00:00<?, ?it/s]"
      ]
     },
     "metadata": {},
     "output_type": "display_data"
    },
    {
     "name": "stdout",
     "output_type": "stream",
     "text": [
      "Time elapsed = 3.9721538464228314 minutes\n"
     ]
    }
   ],
   "source": [
    "# Recall that we set the table name in Step 2\n",
    "\n",
    "start_time = time.time()\n",
    "\n",
    "# In the below, we are using a standard SQL query. \n",
    "query = dataset.query(f\"\"\" \n",
    "    SELECT * \n",
    "    FROM {table_name}\n",
    "    WHERE lon > {xmin}\n",
    "    AND\n",
    "    lon < {xmax}\n",
    "    AND\n",
    "    lat > {ymin}\n",
    "    AND\n",
    "    lat < {ymax}\n",
    "\"\"\")\n",
    "df = query.to_pandas_dataframe()\n",
    "end_time = time.time()\n",
    "\n",
    "print(f\"Time elapsed = { (end_time-start_time)/60} minutes\")"
   ]
  },
  {
   "cell_type": "code",
   "execution_count": 20,
   "id": "f15d9595-9b2c-4975-97c2-0e94b2000924",
   "metadata": {},
   "outputs": [
    {
     "data": {
      "text/html": [
       "<div>\n",
       "<style scoped>\n",
       "    .dataframe tbody tr th:only-of-type {\n",
       "        vertical-align: middle;\n",
       "    }\n",
       "\n",
       "    .dataframe tbody tr th {\n",
       "        vertical-align: top;\n",
       "    }\n",
       "\n",
       "    .dataframe thead th {\n",
       "        text-align: right;\n",
       "    }\n",
       "</style>\n",
       "<table border=\"1\" class=\"dataframe\">\n",
       "  <thead>\n",
       "    <tr style=\"text-align: right;\">\n",
       "      <th></th>\n",
       "      <th>lon</th>\n",
       "      <th>lat</th>\n",
       "      <th>shapeGroup</th>\n",
       "      <th>adm2_shapeID_geoBoundaries</th>\n",
       "      <th>adm1_shapeID_geoBoundaries</th>\n",
       "      <th>X_0</th>\n",
       "      <th>X_1</th>\n",
       "      <th>X_2</th>\n",
       "      <th>X_3</th>\n",
       "      <th>X_4</th>\n",
       "      <th>...</th>\n",
       "      <th>X_3990</th>\n",
       "      <th>X_3991</th>\n",
       "      <th>X_3992</th>\n",
       "      <th>X_3993</th>\n",
       "      <th>X_3994</th>\n",
       "      <th>X_3995</th>\n",
       "      <th>X_3996</th>\n",
       "      <th>X_3997</th>\n",
       "      <th>X_3998</th>\n",
       "      <th>X_3999</th>\n",
       "    </tr>\n",
       "  </thead>\n",
       "  <tbody>\n",
       "    <tr>\n",
       "      <th>0</th>\n",
       "      <td>-95.885</td>\n",
       "      <td>40.235</td>\n",
       "      <td>USA</td>\n",
       "      <td>52423323B40677029402754</td>\n",
       "      <td>66186276B73402293045483</td>\n",
       "      <td>0.062559</td>\n",
       "      <td>0.118751</td>\n",
       "      <td>0.03856</td>\n",
       "      <td>0.042983</td>\n",
       "      <td>0.071997</td>\n",
       "      <td>...</td>\n",
       "      <td>0.046237</td>\n",
       "      <td>0.037501</td>\n",
       "      <td>0.094493</td>\n",
       "      <td>0.09917</td>\n",
       "      <td>0.038835</td>\n",
       "      <td>0.267125</td>\n",
       "      <td>0.373557</td>\n",
       "      <td>0.200487</td>\n",
       "      <td>0.080659</td>\n",
       "      <td>0.036315</td>\n",
       "    </tr>\n",
       "    <tr>\n",
       "      <th>1</th>\n",
       "      <td>-95.415</td>\n",
       "      <td>42.615</td>\n",
       "      <td>USA</td>\n",
       "      <td>52423323B93733047686760</td>\n",
       "      <td>66186276B63937528568220</td>\n",
       "      <td>0.032695</td>\n",
       "      <td>0.04667</td>\n",
       "      <td>0.061263</td>\n",
       "      <td>0.004588</td>\n",
       "      <td>0.044732</td>\n",
       "      <td>...</td>\n",
       "      <td>0.027651</td>\n",
       "      <td>0.053488</td>\n",
       "      <td>0.128208</td>\n",
       "      <td>0.097244</td>\n",
       "      <td>0.033558</td>\n",
       "      <td>0.182988</td>\n",
       "      <td>0.282241</td>\n",
       "      <td>0.148985</td>\n",
       "      <td>0.013496</td>\n",
       "      <td>0.024707</td>\n",
       "    </tr>\n",
       "    <tr>\n",
       "      <th>2</th>\n",
       "      <td>-95.805</td>\n",
       "      <td>42.525</td>\n",
       "      <td>USA</td>\n",
       "      <td>52423323B54538757084750</td>\n",
       "      <td>66186276B63937528568220</td>\n",
       "      <td>0.079816</td>\n",
       "      <td>0.232958</td>\n",
       "      <td>0.072994</td>\n",
       "      <td>0.074009</td>\n",
       "      <td>0.102005</td>\n",
       "      <td>...</td>\n",
       "      <td>0.063977</td>\n",
       "      <td>0.065533</td>\n",
       "      <td>0.253655</td>\n",
       "      <td>0.095197</td>\n",
       "      <td>0.028492</td>\n",
       "      <td>0.16949</td>\n",
       "      <td>0.907811</td>\n",
       "      <td>0.276051</td>\n",
       "      <td>0.067189</td>\n",
       "      <td>0.052975</td>\n",
       "    </tr>\n",
       "    <tr>\n",
       "      <th>3</th>\n",
       "      <td>-95.405</td>\n",
       "      <td>40.435</td>\n",
       "      <td>USA</td>\n",
       "      <td>52423323B76022746373485</td>\n",
       "      <td>66186276B13694661525286</td>\n",
       "      <td>0.060607</td>\n",
       "      <td>0.124777</td>\n",
       "      <td>0.086268</td>\n",
       "      <td>0.018061</td>\n",
       "      <td>0.080836</td>\n",
       "      <td>...</td>\n",
       "      <td>0.094921</td>\n",
       "      <td>0.138727</td>\n",
       "      <td>0.326514</td>\n",
       "      <td>0.232302</td>\n",
       "      <td>0.104634</td>\n",
       "      <td>0.303597</td>\n",
       "      <td>0.874386</td>\n",
       "      <td>0.24914</td>\n",
       "      <td>0.085601</td>\n",
       "      <td>0.133244</td>\n",
       "    </tr>\n",
       "    <tr>\n",
       "      <th>4</th>\n",
       "      <td>-95.635</td>\n",
       "      <td>41.445</td>\n",
       "      <td>USA</td>\n",
       "      <td>52423323B19646678689776</td>\n",
       "      <td>66186276B63937528568220</td>\n",
       "      <td>0.136287</td>\n",
       "      <td>0.250153</td>\n",
       "      <td>0.188607</td>\n",
       "      <td>0.057517</td>\n",
       "      <td>0.182507</td>\n",
       "      <td>...</td>\n",
       "      <td>0.238263</td>\n",
       "      <td>0.296108</td>\n",
       "      <td>0.632367</td>\n",
       "      <td>0.557276</td>\n",
       "      <td>0.241037</td>\n",
       "      <td>0.700652</td>\n",
       "      <td>1.242273</td>\n",
       "      <td>0.450147</td>\n",
       "      <td>0.26056</td>\n",
       "      <td>0.228096</td>\n",
       "    </tr>\n",
       "  </tbody>\n",
       "</table>\n",
       "<p>5 rows × 4005 columns</p>\n",
       "</div>"
      ],
      "text/plain": [
       "      lon     lat shapeGroup adm2_shapeID_geoBoundaries  \\\n",
       "0 -95.885  40.235        USA    52423323B40677029402754   \n",
       "1 -95.415  42.615        USA    52423323B93733047686760   \n",
       "2 -95.805  42.525        USA    52423323B54538757084750   \n",
       "3 -95.405  40.435        USA    52423323B76022746373485   \n",
       "4 -95.635  41.445        USA    52423323B19646678689776   \n",
       "\n",
       "  adm1_shapeID_geoBoundaries       X_0       X_1       X_2       X_3  \\\n",
       "0    66186276B73402293045483  0.062559  0.118751   0.03856  0.042983   \n",
       "1    66186276B63937528568220  0.032695   0.04667  0.061263  0.004588   \n",
       "2    66186276B63937528568220  0.079816  0.232958  0.072994  0.074009   \n",
       "3    66186276B13694661525286  0.060607  0.124777  0.086268  0.018061   \n",
       "4    66186276B63937528568220  0.136287  0.250153  0.188607  0.057517   \n",
       "\n",
       "        X_4  ...    X_3990    X_3991    X_3992    X_3993    X_3994    X_3995  \\\n",
       "0  0.071997  ...  0.046237  0.037501  0.094493   0.09917  0.038835  0.267125   \n",
       "1  0.044732  ...  0.027651  0.053488  0.128208  0.097244  0.033558  0.182988   \n",
       "2  0.102005  ...  0.063977  0.065533  0.253655  0.095197  0.028492   0.16949   \n",
       "3  0.080836  ...  0.094921  0.138727  0.326514  0.232302  0.104634  0.303597   \n",
       "4  0.182507  ...  0.238263  0.296108  0.632367  0.557276  0.241037  0.700652   \n",
       "\n",
       "     X_3996    X_3997    X_3998    X_3999  \n",
       "0  0.373557  0.200487  0.080659  0.036315  \n",
       "1  0.282241  0.148985  0.013496  0.024707  \n",
       "2  0.907811  0.276051  0.067189  0.052975  \n",
       "3  0.874386   0.24914  0.085601  0.133244  \n",
       "4  1.242273  0.450147   0.26056  0.228096  \n",
       "\n",
       "[5 rows x 4005 columns]"
      ]
     },
     "execution_count": 20,
     "metadata": {},
     "output_type": "execute_result"
    }
   ],
   "source": [
    "df.head()"
   ]
  },
  {
   "cell_type": "markdown",
   "id": "b1e67bf4-35d0-48f2-ba27-cf21522f0f7a",
   "metadata": {},
   "source": [
    "### Step 5- Let's visualize the data to make sure it's what we expected"
   ]
  },
  {
   "cell_type": "code",
   "execution_count": 21,
   "id": "b93c2a36-e8a3-4d1d-a126-058761e64ef2",
   "metadata": {},
   "outputs": [
    {
     "data": {
      "text/plain": [
       "<Axes: >"
      ]
     },
     "execution_count": 21,
     "metadata": {},
     "output_type": "execute_result"
    },
    {
     "data": {
      "image/png": "[encoded data removed]",
      "text/plain": [
       "<Figure size 640x480 with 1 Axes>"
      ]
     },
     "metadata": {},
     "output_type": "display_data"
    }
   ],
   "source": [
    "fig, ax =plt.subplots()\n",
    "\n",
    "ax.scatter(df[\"lon\"],df[\"lat\"], s = .0001, color=\"yellow\")  ## Plot points\n",
    "\n",
    "nebraska_shp.exterior.plot(ax=ax)"
   ]
  },
  {
   "cell_type": "markdown",
   "id": "2d9d2541-6e34-42f2-bb2c-681dd85b98c0",
   "metadata": {},
   "source": [
    "#### The yellow points cover Nebraska! Seems like we indeed have the data that we wanted!"
   ]
  },
  {
   "cell_type": "code",
   "execution_count": null,
   "id": "1fc7ed7e-1d8c-4c2b-941c-f85e90d4041d",
   "metadata": {},
   "outputs": [],
   "source": []
  }
 ],
 "metadata": {
  "kernelspec": {
   "display_name": "Python 3 (ipykernel)",
   "language": "python",
   "name": "python3"
  },
  "language_info": {
   "codemirror_mode": {
    "name": "ipython",
    "version": 3
   },
   "file_extension": ".py",
   "mimetype": "text/x-python",
   "name": "python",
   "nbconvert_exporter": "python",
   "pygments_lexer": "ipython3",
   "version": "3.9.0"
  }
 },
 "nbformat": 4,
 "nbformat_minor": 5
}
